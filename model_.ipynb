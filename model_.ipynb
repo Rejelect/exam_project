{
 "cells": [
  {
   "cell_type": "code",
   "execution_count": 1,
   "metadata": {},
   "outputs": [],
   "source": [
    "import pandas as pd\n",
    "import numpy as np\n",
    "from sklearn.linear_model import LogisticRegression\n",
    "from sklearn.preprocessing import StandardScaler, PolynomialFeatures\n",
    "from sklearn.pipeline import Pipeline   \n",
    "from sklearn.ensemble import RandomForestClassifier, StackingClassifier,  BaggingClassifier\n",
    "import warnings\n",
    "warnings.filterwarnings(\"ignore\")"
   ]
  },
  {
   "cell_type": "code",
   "execution_count": 2,
   "metadata": {},
   "outputs": [],
   "source": [
    "df = pd.read_csv(\"csv/train.csv\", index_col=0)\n",
    "test = pd.read_csv(\"csv/test.csv\", index_col=0)\n",
    "sub = pd.read_csv(\"csv/sample_submission.csv\", index_col=0)"
   ]
  },
  {
   "cell_type": "markdown",
   "metadata": {},
   "source": [
    "## Adding and removing features"
   ]
  },
  {
   "cell_type": "code",
   "execution_count": 3,
   "metadata": {},
   "outputs": [],
   "source": [
    "def ft(data):\n",
    "    data[\"hemoglobin_height\"] = data[\"hemoglobin\"] * data[\"height(cm)\"]\n",
    "    data[\"hemoglobin / Gtp\"] = data[\"hemoglobin\"] / data[\"Gtp\"]\n",
    "    data['BMI'] = data['weight(kg)'] / ((data['height(cm)'] / 100) ** 2)\n",
    "    data['hemoglobin_status'] = [ 1 if ((age < 18 and 11.5 <= hgb <= 15.5) or (18 <= age <= 65 and 12.1 <= hgb <= 17.2) or (age > 65 and 11.7 <= hgb <= 14.9)) else 0 for age, hgb in zip(data['age'], data['hemoglobin'])]\n",
    "    data['ALT_binned_quantile'] = pd.cut(data['ALT'], bins=4, labels=[1, 2, 3, 4])\n",
    "    data['BMI_category'] = pd.cut(data['BMI'], bins=[0, 18.5, 25, 30, np.inf], labels = [1, 2, 3, 4])\n",
    "    data['age_height'] = data['age'] * data['height(cm)']\n",
    "            \n",
    "ft(df)\n",
    "ft(test)\n",
    "\n",
    "test = test.drop([\"age\",\"relaxation\", \"fasting blood sugar\", \"Cholesterol\"], axis=1)  \n",
    "X = df.drop([\"smoking\", \"age\",\"relaxation\", \"fasting blood sugar\", \"Cholesterol\"], axis=1)  \n",
    "y = df[\"smoking\"]"
   ]
  },
  {
   "cell_type": "markdown",
   "metadata": {},
   "source": [
    "## Modelling"
   ]
  },
  {
   "cell_type": "code",
   "execution_count": null,
   "metadata": {},
   "outputs": [],
   "source": [
    "model1 = RandomForestClassifier(random_state=42,\n",
    "                                max_depth = 16,\n",
    "                                n_estimators=191, \n",
    "                                min_samples_split = 10, \n",
    "                                min_samples_leaf = 4, \n",
    "                                bootstrap= True,  \n",
    "                                max_features = 'log2', \n",
    "                                criterion='entropy')\n",
    "\n",
    "model2 = RandomForestClassifier(criterion='entropy', \n",
    "                                max_depth=30,\n",
    "                                min_samples_leaf=7,\n",
    "                                min_samples_split=21,\n",
    "                                max_features = 'log2',\n",
    "                                n_estimators=499,\n",
    "                                bootstrap = False,\n",
    "                                random_state=42)\n",
    "\n",
    "bagging_model1 = BaggingClassifier(estimator=model1,\n",
    "                                   n_estimators=50,\n",
    "                                   random_state=42,\n",
    "                                   bootstrap_features=True,\n",
    "                                   n_jobs = -1)\n",
    "\n",
    "bagging_model2 = BaggingClassifier(estimator=model2, \n",
    "                                   n_estimators=15, \n",
    "                                   random_state=42, \n",
    "                                   n_jobs = -1)\n",
    "\n",
    "base_model = Pipeline([\n",
    "                    (\"poly\", PolynomialFeatures(degree=2, include_bias=False)),\n",
    "                    (\"scaler\", StandardScaler()),\n",
    "                    (\"logic\", LogisticRegression(penalty=\"elasticnet\", \n",
    "                                                solver=\"saga\", \n",
    "                                                C=67.71250104715932, \n",
    "                                                l1_ratio=0.2318363725602379))])\n",
    "\n",
    "stacking = StackingClassifier(estimators=[\n",
    "                                        ('bagging1', bagging_model1),\n",
    "                                        ('bagging2', bagging_model2)\n",
    "                                        ],\n",
    "                            final_estimator= base_model,\n",
    "                            cv=5, \n",
    "                            n_jobs = -1)\n",
    "\n",
    "stacking.fit(X, y)"
   ]
  },
  {
   "cell_type": "code",
   "execution_count": 16,
   "metadata": {},
   "outputs": [],
   "source": [
    "sub[\"smoking\"] = stacking.predict_proba(test)[:, 1]\n",
    "sub.to_csv(\"return5.csv\")"
   ]
  },
  {
   "cell_type": "code",
   "execution_count": null,
   "metadata": {},
   "outputs": [],
   "source": []
  }
 ],
 "metadata": {
  "kernelspec": {
   "display_name": "Python 3",
   "language": "python",
   "name": "python3"
  },
  "language_info": {
   "codemirror_mode": {
    "name": "ipython",
    "version": 3
   },
   "file_extension": ".py",
   "mimetype": "text/x-python",
   "name": "python",
   "nbconvert_exporter": "python",
   "pygments_lexer": "ipython3",
   "version": "3.12.4"
  }
 },
 "nbformat": 4,
 "nbformat_minor": 2
}
